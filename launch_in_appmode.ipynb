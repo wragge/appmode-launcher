{
 "cells": [
  {
   "cell_type": "markdown",
   "metadata": {},
   "source": [
    "# Launch a Jupyter Lab notebook in appmode\n",
    "\n",
    "[Appmode](https://github.com/oschuett/appmode) is useful for displaying Jupyter notebooks as web apps, with all the code hidden. But you can't use `appmode` within Jupyter Lab. Here's some code to create a button that launches the current notebook in `appmode`. It works in either Jupyter Lab or the classic notebook view. If `appmode` isn't available it does nothing."
   ]
  },
  {
   "cell_type": "code",
   "execution_count": null,
   "metadata": {},
   "outputs": [],
   "source": [
    "from notebook.notebookapp import list_running_servers\n",
    "import requests\n",
    "from requests.compat import urljoin\n",
    "import json\n",
    "import os\n",
    "import ipykernel\n",
    "import re\n",
    "from IPython.display import display, HTML\n",
    "\n",
    "def create_appmode_link():\n",
    "    '''\n",
    "    This creates a link to run the current notebook in appmode.\n",
    "    This is mainly useful in Jupyter Lab where appmode won't work.\n",
    "    Clicking on the link in Lab will take you into the classic notebook environment and run appmode.\n",
    "    Modified from: https://github.com/jupyter/notebook/issues/1000\n",
    "    '''\n",
    "    try:\n",
    "        import appmode\n",
    "    except ImportError:\n",
    "        pass\n",
    "    else:\n",
    "        kernel_id = re.search('kernel-(.*).json', ipykernel.connect.get_connection_file()).group(1)\n",
    "        servers = list_running_servers()\n",
    "        for ss in servers:\n",
    "            response = requests.get(urljoin(ss['url'], 'api/sessions'), params={'token': ss.get('token', '')})\n",
    "            for nn in json.loads(response.text):\n",
    "                if nn['kernel']['id'] == kernel_id:\n",
    "                    relative_path = nn['notebook']['path']\n",
    "                    # Notebooks running in appmode are prefixed with '.' so if it's already in appmode we'll do nothing\n",
    "                    if relative_path[0] != '.':\n",
    "                        url = os.path.join(ss['base_url'], 'apps', relative_path)\n",
    "                        display(HTML('<p>This notebook was designed to run in Appmode (with all the code hidden).</p>'))\n",
    "                        display(HTML('<a style=\"padding: 5px; display:block; width: 200px; text-align: center; background-color: #2196F3; color: white;\" href=\"{}\">Launch in appmode</a>'.format(url)))\n",
    "                    else:\n",
    "                        display(HTML('<p>This is a Jupyter notebook running in <a href=\"https://glam-workbench.github.io/getting-started/#running-notebooks-as-apps\">App mode</a> (with all the code hidden). To view and edit the code, click on the <b>Edit App</b> button.</p>'))\n",
    "\n",
    "create_appmode_link()"
   ]
  },
  {
   "cell_type": "code",
   "execution_count": null,
   "metadata": {},
   "outputs": [],
   "source": []
  }
 ],
 "metadata": {
  "kernelspec": {
   "display_name": "Python 3",
   "language": "python",
   "name": "python3"
  },
  "language_info": {
   "codemirror_mode": {
    "name": "ipython",
    "version": 3
   },
   "file_extension": ".py",
   "mimetype": "text/x-python",
   "name": "python",
   "nbconvert_exporter": "python",
   "pygments_lexer": "ipython3",
   "version": "3.7.7"
  }
 },
 "nbformat": 4,
 "nbformat_minor": 4
}
